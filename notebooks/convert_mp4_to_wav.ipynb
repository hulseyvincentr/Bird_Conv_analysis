{
 "cells": [
  {
   "cell_type": "markdown",
   "metadata": {},
   "source": [
    "# This code contains 2 options for converting .MP4s to .WAV files: either converting one file at a time, or converting all of the files in a folder.\n",
    "\n",
    "### If the user runs the first cell, a file explorer window will pop up, and they will be able to select one file. The code will save the .wav file in the same folder as that file, and with the same name.\n",
    "\n",
    "### If the user runs the secon cell, a file explorer window will pop up, and they will be able to select one FOLDER full of .mp4 files. Then, another file explorer window will pop up, and the user will be able to select (or make) a folder where the .wav files will be saved."
   ]
  },
  {
   "cell_type": "markdown",
   "metadata": {},
   "source": [
    "## Run this cell if you want to convert one .mp4 file to a .wav file"
   ]
  },
  {
   "cell_type": "code",
   "execution_count": 4,
   "metadata": {},
   "outputs": [
    {
     "name": "stderr",
     "output_type": "stream",
     "text": [
      "chunk:   0%|          | 37/79339 [04:24<157:25:40,  7.15s/it, now=None]"
     ]
    },
    {
     "name": "stdout",
     "output_type": "stream",
     "text": [
      "MoviePy - Writing audio in /Users/mirandahulsey-vincent/Documents/allPythonCode/Bird_Conv_analysis/input/test_convert_mp4s/1719860075-USA5497-USA5494.wav\n"
     ]
    },
    {
     "name": "stderr",
     "output_type": "stream",
     "text": [
      "chunk:   0%|          | 37/79339 [04:45<169:51:25,  7.71s/it, now=None]"
     ]
    },
    {
     "name": "stdout",
     "output_type": "stream",
     "text": [
      "MoviePy - Done.\n",
      "Converted '/Users/mirandahulsey-vincent/Documents/allPythonCode/Bird_Conv_analysis/input/test_convert_mp4s/1719860075-USA5497-USA5494.mp4' to '/Users/mirandahulsey-vincent/Documents/allPythonCode/Bird_Conv_analysis/input/test_convert_mp4s/1719860075-USA5497-USA5494.wav'\n"
     ]
    }
   ],
   "source": [
    "from moviepy.editor import VideoFileClip\n",
    "import os\n",
    "from tkinter import Tk\n",
    "from tkinter.filedialog import askopenfilename\n",
    "\n",
    "def convert_mp4_to_wav():\n",
    "    # Create a Tkinter root window and hide it\n",
    "    root = Tk()\n",
    "    root.withdraw()  # Hide the main window\n",
    "\n",
    "    # Open file dialog to select .mp4 file\n",
    "    input_file = askopenfilename(filetypes=[(\"MP4 files\", \"*.mp4\")])\n",
    "    \n",
    "    # Check if the user selected a file\n",
    "    if not input_file:\n",
    "        print(\"No file selected.\")\n",
    "        return\n",
    "    \n",
    "    # Get the file name without extension and the directory path\n",
    "    base_name = os.path.splitext(input_file)[0]\n",
    "    \n",
    "    # Define the output file path with .wav extension\n",
    "    output_file = base_name + \".wav\"\n",
    "    \n",
    "    # Load the video file\n",
    "    video = VideoFileClip(input_file)\n",
    "    \n",
    "    # Extract the audio from the video and write it to a .wav file\n",
    "    video.audio.write_audiofile(output_file, codec='pcm_s16le')\n",
    "    \n",
    "    print(f\"Converted '{input_file}' to '{output_file}'\")\n",
    "\n",
    "# Call the function to open the GUI and convert the selected file\n",
    "convert_mp4_to_wav()"
   ]
  },
  {
   "cell_type": "markdown",
   "metadata": {},
   "source": [
    "## Run this code to convert all of the .mp4 files in FOLDER to .wav files"
   ]
  },
  {
   "cell_type": "code",
   "execution_count": 6,
   "metadata": {},
   "outputs": [
    {
     "name": "stderr",
     "output_type": "stream",
     "text": [
      "chunk:   0%|          | 37/79339 [10:02<358:25:38, 16.27s/it, now=None]"
     ]
    },
    {
     "name": "stdout",
     "output_type": "stream",
     "text": [
      "MoviePy - Writing audio in /Volumes/Extreme SSD/BirdConv/WAVs/Canary_Social/1725116708-USA5494-USA5497.wav\n"
     ]
    },
    {
     "name": "stderr",
     "output_type": "stream",
     "text": [
      "chunk:   0%|          | 37/79339 [10:22<370:52:48, 16.84s/it, now=None]"
     ]
    },
    {
     "name": "stdout",
     "output_type": "stream",
     "text": [
      "MoviePy - Done.\n",
      "Converted '/Volumes/Extreme SSD/BirdConv/MP4s/Canary_Social/1725116708-USA5494-USA5497.mp4' to '/Volumes/Extreme SSD/BirdConv/WAVs/Canary_Social/1725116708-USA5494-USA5497.wav'\n"
     ]
    },
    {
     "name": "stderr",
     "output_type": "stream",
     "text": [
      "chunk:   0%|          | 37/79339 [10:23<371:07:33, 16.85s/it, now=None]"
     ]
    },
    {
     "name": "stdout",
     "output_type": "stream",
     "text": [
      "MoviePy - Writing audio in /Volumes/Extreme SSD/BirdConv/WAVs/Canary_Social/1720627128-USA5494-USA5497.wav\n"
     ]
    },
    {
     "name": "stderr",
     "output_type": "stream",
     "text": [
      "chunk:   0%|          | 37/79339 [10:44<383:51:08, 17.43s/it, now=None]"
     ]
    },
    {
     "name": "stdout",
     "output_type": "stream",
     "text": [
      "MoviePy - Done.\n",
      "Converted '/Volumes/Extreme SSD/BirdConv/MP4s/Canary_Social/1720627128-USA5494-USA5497.mp4' to '/Volumes/Extreme SSD/BirdConv/WAVs/Canary_Social/1720627128-USA5494-USA5497.wav'\n"
     ]
    },
    {
     "name": "stderr",
     "output_type": "stream",
     "text": [
      "chunk:   0%|          | 37/79339 [10:45<384:07:14, 17.44s/it, now=None]"
     ]
    },
    {
     "name": "stdout",
     "output_type": "stream",
     "text": [
      "MoviePy - Writing audio in /Volumes/Extreme SSD/BirdConv/WAVs/Canary_Social/1724969947-USA5497-USA5494.wav\n"
     ]
    },
    {
     "name": "stderr",
     "output_type": "stream",
     "text": [
      "chunk:   0%|          | 37/79339 [11:06<396:54:09, 18.02s/it, now=None]"
     ]
    },
    {
     "name": "stdout",
     "output_type": "stream",
     "text": [
      "MoviePy - Done.\n",
      "Converted '/Volumes/Extreme SSD/BirdConv/MP4s/Canary_Social/1724969947-USA5497-USA5494.mp4' to '/Volumes/Extreme SSD/BirdConv/WAVs/Canary_Social/1724969947-USA5497-USA5494.wav'\n"
     ]
    },
    {
     "name": "stderr",
     "output_type": "stream",
     "text": [
      "chunk:   0%|          | 37/79339 [11:07<397:09:00, 18.03s/it, now=None]"
     ]
    },
    {
     "name": "stdout",
     "output_type": "stream",
     "text": [
      "MoviePy - Writing audio in /Volumes/Extreme SSD/BirdConv/WAVs/Canary_Social/1725034843-USA5499-USA5483.wav\n"
     ]
    },
    {
     "name": "stderr",
     "output_type": "stream",
     "text": [
      "chunk:   0%|          | 37/79339 [11:28<409:55:55, 18.61s/it, now=None]"
     ]
    },
    {
     "name": "stdout",
     "output_type": "stream",
     "text": [
      "MoviePy - Done.\n",
      "Converted '/Volumes/Extreme SSD/BirdConv/MP4s/Canary_Social/1725034843-USA5499-USA5483.mp4' to '/Volumes/Extreme SSD/BirdConv/WAVs/Canary_Social/1725034843-USA5499-USA5483.wav'\n"
     ]
    },
    {
     "name": "stderr",
     "output_type": "stream",
     "text": [
      "chunk:   0%|          | 37/79339 [11:28<410:11:01, 18.62s/it, now=None]"
     ]
    },
    {
     "name": "stdout",
     "output_type": "stream",
     "text": [
      "MoviePy - Writing audio in /Volumes/Extreme SSD/BirdConv/WAVs/Canary_Social/1725035508-USA5494-USA5497.wav\n"
     ]
    },
    {
     "name": "stderr",
     "output_type": "stream",
     "text": [
      "chunk:   0%|          | 37/79339 [11:50<423:10:05, 19.21s/it, now=None]"
     ]
    },
    {
     "name": "stdout",
     "output_type": "stream",
     "text": [
      "MoviePy - Done.\n",
      "Converted '/Volumes/Extreme SSD/BirdConv/MP4s/Canary_Social/1725035508-USA5494-USA5497.mp4' to '/Volumes/Extreme SSD/BirdConv/WAVs/Canary_Social/1725035508-USA5494-USA5497.wav'\n"
     ]
    },
    {
     "name": "stderr",
     "output_type": "stream",
     "text": [
      "chunk:   0%|          | 37/79339 [11:51<423:22:53, 19.22s/it, now=None]"
     ]
    },
    {
     "name": "stdout",
     "output_type": "stream",
     "text": [
      "MoviePy - Writing audio in /Volumes/Extreme SSD/BirdConv/WAVs/Canary_Social/1725042824-USA5499-USA5483.wav\n"
     ]
    },
    {
     "name": "stderr",
     "output_type": "stream",
     "text": [
      "chunk:   0%|          | 37/79339 [11:51<423:33:58, 19.23s/it, now=None]"
     ]
    },
    {
     "name": "stdout",
     "output_type": "stream",
     "text": [
      "MoviePy - Done.\n",
      "Converted '/Volumes/Extreme SSD/BirdConv/MP4s/Canary_Social/1725042824-USA5499-USA5483.mp4' to '/Volumes/Extreme SSD/BirdConv/WAVs/Canary_Social/1725042824-USA5499-USA5483.wav'\n"
     ]
    },
    {
     "name": "stderr",
     "output_type": "stream",
     "text": [
      "chunk:   0%|          | 37/79339 [11:51<423:46:36, 19.24s/it, now=None]"
     ]
    },
    {
     "name": "stdout",
     "output_type": "stream",
     "text": [
      "MoviePy - Writing audio in /Volumes/Extreme SSD/BirdConv/WAVs/Canary_Social/1725042967-USA5483-USA5494.wav\n"
     ]
    },
    {
     "name": "stderr",
     "output_type": "stream",
     "text": [
      "chunk:   0%|          | 37/79339 [11:51<423:52:32, 19.24s/it, now=None]"
     ]
    },
    {
     "name": "stdout",
     "output_type": "stream",
     "text": [
      "MoviePy - Done.\n",
      "Converted '/Volumes/Extreme SSD/BirdConv/MP4s/Canary_Social/1725042967-USA5483-USA5494.mp4' to '/Volumes/Extreme SSD/BirdConv/WAVs/Canary_Social/1725042967-USA5483-USA5494.wav'\n"
     ]
    },
    {
     "name": "stderr",
     "output_type": "stream",
     "text": [
      "chunk:   0%|          | 37/79339 [11:52<424:04:57, 19.25s/it, now=None]"
     ]
    },
    {
     "name": "stdout",
     "output_type": "stream",
     "text": [
      "MoviePy - Writing audio in /Volumes/Extreme SSD/BirdConv/WAVs/Canary_Social/1725043041-USA5483-USA5499.wav\n"
     ]
    },
    {
     "name": "stderr",
     "output_type": "stream",
     "text": [
      "chunk:   0%|          | 37/79339 [11:52<424:24:41, 19.27s/it, now=None]"
     ]
    },
    {
     "name": "stdout",
     "output_type": "stream",
     "text": [
      "MoviePy - Done.\n",
      "Converted '/Volumes/Extreme SSD/BirdConv/MP4s/Canary_Social/1725043041-USA5483-USA5499.mp4' to '/Volumes/Extreme SSD/BirdConv/WAVs/Canary_Social/1725043041-USA5483-USA5499.wav'\n"
     ]
    },
    {
     "name": "stderr",
     "output_type": "stream",
     "text": [
      "chunk:   0%|          | 37/79339 [11:53<424:37:20, 19.28s/it, now=None]"
     ]
    },
    {
     "name": "stdout",
     "output_type": "stream",
     "text": [
      "MoviePy - Writing audio in /Volumes/Extreme SSD/BirdConv/WAVs/Canary_Social/1725054058-USA5483-USA5494.wav\n"
     ]
    },
    {
     "name": "stderr",
     "output_type": "stream",
     "text": [
      "chunk:   0%|          | 37/79339 [11:53<425:02:24, 19.30s/it, now=None]"
     ]
    },
    {
     "name": "stdout",
     "output_type": "stream",
     "text": [
      "MoviePy - Done.\n",
      "Converted '/Volumes/Extreme SSD/BirdConv/MP4s/Canary_Social/1725054058-USA5483-USA5494.mp4' to '/Volumes/Extreme SSD/BirdConv/WAVs/Canary_Social/1725054058-USA5483-USA5494.wav'\n"
     ]
    },
    {
     "name": "stderr",
     "output_type": "stream",
     "text": [
      "chunk:   0%|          | 37/79339 [11:54<425:17:32, 19.31s/it, now=None]"
     ]
    },
    {
     "name": "stdout",
     "output_type": "stream",
     "text": [
      "MoviePy - Writing audio in /Volumes/Extreme SSD/BirdConv/WAVs/Canary_Social/1725054362-USA5483-USA5494.wav\n"
     ]
    },
    {
     "name": "stderr",
     "output_type": "stream",
     "text": [
      "chunk:   0%|          | 37/79339 [12:15<438:09:00, 19.89s/it, now=None]"
     ]
    },
    {
     "name": "stdout",
     "output_type": "stream",
     "text": [
      "MoviePy - Done.\n",
      "Converted '/Volumes/Extreme SSD/BirdConv/MP4s/Canary_Social/1725054362-USA5483-USA5494.mp4' to '/Volumes/Extreme SSD/BirdConv/WAVs/Canary_Social/1725054362-USA5483-USA5494.wav'\n"
     ]
    },
    {
     "name": "stderr",
     "output_type": "stream",
     "text": [
      "chunk:   0%|          | 37/79339 [12:16<438:25:23, 19.90s/it, now=None]"
     ]
    },
    {
     "name": "stdout",
     "output_type": "stream",
     "text": [
      "MoviePy - Writing audio in /Volumes/Extreme SSD/BirdConv/WAVs/Canary_Social/1725054582-USA5499-USA5497.wav\n"
     ]
    },
    {
     "name": "stderr",
     "output_type": "stream",
     "text": [
      "chunk:   0%|          | 37/79339 [12:38<451:23:42, 20.49s/it, now=None]"
     ]
    },
    {
     "name": "stdout",
     "output_type": "stream",
     "text": [
      "MoviePy - Done.\n",
      "Converted '/Volumes/Extreme SSD/BirdConv/MP4s/Canary_Social/1725054582-USA5499-USA5497.mp4' to '/Volumes/Extreme SSD/BirdConv/WAVs/Canary_Social/1725054582-USA5499-USA5497.wav'\n"
     ]
    },
    {
     "name": "stderr",
     "output_type": "stream",
     "text": [
      "chunk:   0%|          | 37/79339 [12:38<451:36:59, 20.50s/it, now=None]"
     ]
    },
    {
     "name": "stdout",
     "output_type": "stream",
     "text": [
      "MoviePy - Writing audio in /Volumes/Extreme SSD/BirdConv/WAVs/Canary_Social/1720557479-USA5497-USA5494.wav\n"
     ]
    },
    {
     "name": "stderr",
     "output_type": "stream",
     "text": [
      "chunk:   0%|          | 37/79339 [12:39<452:24:49, 20.54s/it, now=None]"
     ]
    },
    {
     "name": "stdout",
     "output_type": "stream",
     "text": [
      "MoviePy - Done.\n",
      "Converted '/Volumes/Extreme SSD/BirdConv/MP4s/Canary_Social/1720557479-USA5497-USA5494.mp4' to '/Volumes/Extreme SSD/BirdConv/WAVs/Canary_Social/1720557479-USA5497-USA5494.wav'\n"
     ]
    },
    {
     "name": "stderr",
     "output_type": "stream",
     "text": [
      "chunk:   0%|          | 37/79339 [12:40<452:40:27, 20.55s/it, now=None]"
     ]
    },
    {
     "name": "stdout",
     "output_type": "stream",
     "text": [
      "MoviePy - Writing audio in /Volumes/Extreme SSD/BirdConv/WAVs/Canary_Social/1720560363-USA5497-USA5494.wav\n"
     ]
    },
    {
     "name": "stderr",
     "output_type": "stream",
     "text": [
      "chunk:   0%|          | 37/79339 [13:01<465:33:31, 21.13s/it, now=None]"
     ]
    },
    {
     "name": "stdout",
     "output_type": "stream",
     "text": [
      "MoviePy - Done.\n",
      "Converted '/Volumes/Extreme SSD/BirdConv/MP4s/Canary_Social/1720560363-USA5497-USA5494.mp4' to '/Volumes/Extreme SSD/BirdConv/WAVs/Canary_Social/1720560363-USA5497-USA5494.wav'\n"
     ]
    },
    {
     "name": "stderr",
     "output_type": "stream",
     "text": [
      "chunk:   0%|          | 37/79339 [13:02<465:47:52, 21.15s/it, now=None]"
     ]
    },
    {
     "name": "stdout",
     "output_type": "stream",
     "text": [
      "MoviePy - Writing audio in /Volumes/Extreme SSD/BirdConv/WAVs/Canary_Social/1725042692-USA5499-USA5483.wav\n"
     ]
    },
    {
     "name": "stderr",
     "output_type": "stream",
     "text": [
      "chunk:   0%|          | 37/79339 [13:03<466:12:02, 21.16s/it, now=None]"
     ]
    },
    {
     "name": "stdout",
     "output_type": "stream",
     "text": [
      "MoviePy - Done.\n",
      "Converted '/Volumes/Extreme SSD/BirdConv/MP4s/Canary_Social/1725042692-USA5499-USA5483.mp4' to '/Volumes/Extreme SSD/BirdConv/WAVs/Canary_Social/1725042692-USA5499-USA5483.wav'\n"
     ]
    },
    {
     "name": "stderr",
     "output_type": "stream",
     "text": [
      "chunk:   0%|          | 37/79339 [13:03<466:24:44, 21.17s/it, now=None]"
     ]
    },
    {
     "name": "stdout",
     "output_type": "stream",
     "text": [
      "MoviePy - Writing audio in /Volumes/Extreme SSD/BirdConv/WAVs/Canary_Social/1729117510-USA5497-USA5499.wav\n"
     ]
    },
    {
     "name": "stderr",
     "output_type": "stream",
     "text": [
      "chunk:   0%|          | 37/79339 [13:05<467:32:03, 21.22s/it, now=None]"
     ]
    },
    {
     "name": "stdout",
     "output_type": "stream",
     "text": [
      "MoviePy - Done.\n",
      "Converted '/Volumes/Extreme SSD/BirdConv/MP4s/Canary_Social/1729117510-USA5497-USA5499.mp4' to '/Volumes/Extreme SSD/BirdConv/WAVs/Canary_Social/1729117510-USA5497-USA5499.wav'\n"
     ]
    },
    {
     "name": "stderr",
     "output_type": "stream",
     "text": [
      "chunk:   0%|          | 37/79339 [13:05<467:47:08, 21.24s/it, now=None]"
     ]
    },
    {
     "name": "stdout",
     "output_type": "stream",
     "text": [
      "MoviePy - Writing audio in /Volumes/Extreme SSD/BirdConv/WAVs/Canary_Social/1719860075-USA5497-USA5494.wav\n"
     ]
    },
    {
     "name": "stderr",
     "output_type": "stream",
     "text": [
      "chunk:   0%|          | 37/79339 [13:27<480:45:59, 21.82s/it, now=None]"
     ]
    },
    {
     "name": "stdout",
     "output_type": "stream",
     "text": [
      "MoviePy - Done.\n",
      "Converted '/Volumes/Extreme SSD/BirdConv/MP4s/Canary_Social/1719860075-USA5497-USA5494.mp4' to '/Volumes/Extreme SSD/BirdConv/WAVs/Canary_Social/1719860075-USA5497-USA5494.wav'\n"
     ]
    },
    {
     "name": "stderr",
     "output_type": "stream",
     "text": [
      "chunk:   0%|          | 37/79339 [13:27<481:01:40, 21.84s/it, now=None]"
     ]
    },
    {
     "name": "stdout",
     "output_type": "stream",
     "text": [
      "MoviePy - Writing audio in /Volumes/Extreme SSD/BirdConv/WAVs/Canary_Social/1719941675-USA5494-USA5497.wav\n"
     ]
    },
    {
     "name": "stderr",
     "output_type": "stream",
     "text": [
      "chunk:   0%|          | 37/79339 [13:49<493:50:11, 22.42s/it, now=None]"
     ]
    },
    {
     "name": "stdout",
     "output_type": "stream",
     "text": [
      "MoviePy - Done.\n",
      "Converted '/Volumes/Extreme SSD/BirdConv/MP4s/Canary_Social/1719941675-USA5494-USA5497.mp4' to '/Volumes/Extreme SSD/BirdConv/WAVs/Canary_Social/1719941675-USA5494-USA5497.wav'\n"
     ]
    },
    {
     "name": "stderr",
     "output_type": "stream",
     "text": [
      "chunk:   0%|          | 37/79339 [13:49<494:05:42, 22.43s/it, now=None]"
     ]
    },
    {
     "name": "stdout",
     "output_type": "stream",
     "text": [
      "MoviePy - Writing audio in /Volumes/Extreme SSD/BirdConv/WAVs/Canary_Social/1719947029-USA5508-USA5510.wav\n"
     ]
    },
    {
     "name": "stderr",
     "output_type": "stream",
     "text": [
      "chunk:   0%|          | 37/79339 [14:11<506:51:50, 23.01s/it, now=None]"
     ]
    },
    {
     "name": "stdout",
     "output_type": "stream",
     "text": [
      "MoviePy - Done.\n",
      "Converted '/Volumes/Extreme SSD/BirdConv/MP4s/Canary_Social/1719947029-USA5508-USA5510.mp4' to '/Volumes/Extreme SSD/BirdConv/WAVs/Canary_Social/1719947029-USA5508-USA5510.wav'\n"
     ]
    },
    {
     "name": "stderr",
     "output_type": "stream",
     "text": [
      "chunk:   0%|          | 37/79339 [14:11<507:07:29, 23.02s/it, now=None]"
     ]
    },
    {
     "name": "stdout",
     "output_type": "stream",
     "text": [
      "MoviePy - Writing audio in /Volumes/Extreme SSD/BirdConv/WAVs/Canary_Social/1720020908-USA5497-USA5494.wav\n"
     ]
    },
    {
     "name": "stderr",
     "output_type": "stream",
     "text": [
      "chunk:   0%|          | 37/79339 [14:34<520:25:15, 23.63s/it, now=None]"
     ]
    },
    {
     "name": "stdout",
     "output_type": "stream",
     "text": [
      "MoviePy - Done.\n",
      "Converted '/Volumes/Extreme SSD/BirdConv/MP4s/Canary_Social/1720020908-USA5497-USA5494.mp4' to '/Volumes/Extreme SSD/BirdConv/WAVs/Canary_Social/1720020908-USA5497-USA5494.wav'\n"
     ]
    },
    {
     "name": "stderr",
     "output_type": "stream",
     "text": [
      "chunk:   0%|          | 37/79339 [14:34<520:41:38, 23.64s/it, now=None]"
     ]
    },
    {
     "name": "stdout",
     "output_type": "stream",
     "text": [
      "MoviePy - Writing audio in /Volumes/Extreme SSD/BirdConv/WAVs/Canary_Social/1720028633-USA5508-USA5510.wav\n"
     ]
    },
    {
     "name": "stderr",
     "output_type": "stream",
     "text": [
      "chunk:   0%|          | 37/79339 [14:56<533:29:10, 24.22s/it, now=None]"
     ]
    },
    {
     "name": "stdout",
     "output_type": "stream",
     "text": [
      "MoviePy - Done.\n",
      "Converted '/Volumes/Extreme SSD/BirdConv/MP4s/Canary_Social/1720028633-USA5508-USA5510.mp4' to '/Volumes/Extreme SSD/BirdConv/WAVs/Canary_Social/1720028633-USA5508-USA5510.wav'\n"
     ]
    },
    {
     "name": "stderr",
     "output_type": "stream",
     "text": [
      "chunk:   0%|          | 37/79339 [14:56<533:45:08, 24.23s/it, now=None]"
     ]
    },
    {
     "name": "stdout",
     "output_type": "stream",
     "text": [
      "MoviePy - Writing audio in /Volumes/Extreme SSD/BirdConv/WAVs/Canary_Social/1720713572-USA5497-USA5494.wav\n"
     ]
    },
    {
     "name": "stderr",
     "output_type": "stream",
     "text": [
      "chunk:   0%|          | 37/79339 [15:18<546:54:35, 24.83s/it, now=None]"
     ]
    },
    {
     "name": "stdout",
     "output_type": "stream",
     "text": [
      "MoviePy - Done.\n",
      "Converted '/Volumes/Extreme SSD/BirdConv/MP4s/Canary_Social/1720713572-USA5497-USA5494.mp4' to '/Volumes/Extreme SSD/BirdConv/WAVs/Canary_Social/1720713572-USA5497-USA5494.wav'\n"
     ]
    },
    {
     "name": "stderr",
     "output_type": "stream",
     "text": [
      "chunk:   0%|          | 37/79339 [15:19<547:11:50, 24.84s/it, now=None]"
     ]
    },
    {
     "name": "stdout",
     "output_type": "stream",
     "text": [
      "MoviePy - Writing audio in /Volumes/Extreme SSD/BirdConv/WAVs/Canary_Social/1721071136-USA5494-USA5497.wav\n"
     ]
    },
    {
     "name": "stderr",
     "output_type": "stream",
     "text": [
      "chunk:   0%|          | 37/79339 [15:41<560:36:58, 25.45s/it, now=None]"
     ]
    },
    {
     "name": "stdout",
     "output_type": "stream",
     "text": [
      "MoviePy - Done.\n",
      "Converted '/Volumes/Extreme SSD/BirdConv/MP4s/Canary_Social/1721071136-USA5494-USA5497.mp4' to '/Volumes/Extreme SSD/BirdConv/WAVs/Canary_Social/1721071136-USA5494-USA5497.wav'\n"
     ]
    },
    {
     "name": "stderr",
     "output_type": "stream",
     "text": [
      "chunk:   0%|          | 37/79339 [15:42<560:52:29, 25.46s/it, now=None]"
     ]
    },
    {
     "name": "stdout",
     "output_type": "stream",
     "text": [
      "MoviePy - Writing audio in /Volumes/Extreme SSD/BirdConv/WAVs/Canary_Social/1721077275-USA5497-USA5494.wav\n"
     ]
    },
    {
     "name": "stderr",
     "output_type": "stream",
     "text": [
      "chunk:   0%|          | 37/79339 [16:04<574:04:20, 26.06s/it, now=None]"
     ]
    },
    {
     "name": "stdout",
     "output_type": "stream",
     "text": [
      "MoviePy - Done.\n",
      "Converted '/Volumes/Extreme SSD/BirdConv/MP4s/Canary_Social/1721077275-USA5497-USA5494.mp4' to '/Volumes/Extreme SSD/BirdConv/WAVs/Canary_Social/1721077275-USA5497-USA5494.wav'\n"
     ]
    },
    {
     "name": "stderr",
     "output_type": "stream",
     "text": [
      "chunk:   0%|          | 37/79339 [16:04<574:21:02, 26.07s/it, now=None]"
     ]
    },
    {
     "name": "stdout",
     "output_type": "stream",
     "text": [
      "MoviePy - Writing audio in /Volumes/Extreme SSD/BirdConv/WAVs/Canary_Social/1721147572-USA5497-USA5494.wav\n"
     ]
    },
    {
     "name": "stderr",
     "output_type": "stream",
     "text": [
      "chunk:   0%|          | 37/79339 [16:28<588:19:58, 26.71s/it, now=None]"
     ]
    },
    {
     "name": "stdout",
     "output_type": "stream",
     "text": [
      "MoviePy - Done.\n",
      "Converted '/Volumes/Extreme SSD/BirdConv/MP4s/Canary_Social/1721147572-USA5497-USA5494.mp4' to '/Volumes/Extreme SSD/BirdConv/WAVs/Canary_Social/1721147572-USA5497-USA5494.wav'\n"
     ]
    },
    {
     "name": "stderr",
     "output_type": "stream",
     "text": [
      "chunk:   0%|          | 37/79339 [16:28<588:39:40, 26.72s/it, now=None]"
     ]
    },
    {
     "name": "stdout",
     "output_type": "stream",
     "text": [
      "MoviePy - Writing audio in /Volumes/Extreme SSD/BirdConv/WAVs/Canary_Social/1721156720-USA5497-USA5494.wav\n"
     ]
    },
    {
     "name": "stderr",
     "output_type": "stream",
     "text": [
      "chunk:   0%|          | 37/79339 [16:53<603:10:24, 27.38s/it, now=None]"
     ]
    },
    {
     "name": "stdout",
     "output_type": "stream",
     "text": [
      "MoviePy - Done.\n",
      "Converted '/Volumes/Extreme SSD/BirdConv/MP4s/Canary_Social/1721156720-USA5497-USA5494.mp4' to '/Volumes/Extreme SSD/BirdConv/WAVs/Canary_Social/1721156720-USA5497-USA5494.wav'\n"
     ]
    },
    {
     "name": "stderr",
     "output_type": "stream",
     "text": [
      "chunk:   0%|          | 37/79339 [16:53<603:27:46, 27.39s/it, now=None]"
     ]
    },
    {
     "name": "stdout",
     "output_type": "stream",
     "text": [
      "MoviePy - Writing audio in /Volumes/Extreme SSD/BirdConv/WAVs/Canary_Social/1721228884-USA5497-USA5494.wav\n"
     ]
    },
    {
     "name": "stderr",
     "output_type": "stream",
     "text": [
      "chunk:   0%|          | 37/79339 [17:17<617:54:00, 28.05s/it, now=None]"
     ]
    },
    {
     "name": "stdout",
     "output_type": "stream",
     "text": [
      "MoviePy - Done.\n",
      "Converted '/Volumes/Extreme SSD/BirdConv/MP4s/Canary_Social/1721228884-USA5497-USA5494.mp4' to '/Volumes/Extreme SSD/BirdConv/WAVs/Canary_Social/1721228884-USA5497-USA5494.wav'\n"
     ]
    },
    {
     "name": "stderr",
     "output_type": "stream",
     "text": [
      "chunk:   0%|          | 37/79339 [17:18<618:11:15, 28.06s/it, now=None]"
     ]
    },
    {
     "name": "stdout",
     "output_type": "stream",
     "text": [
      "MoviePy - Writing audio in /Volumes/Extreme SSD/BirdConv/WAVs/Canary_Social/1724970673-USA5499-USA5483.wav\n"
     ]
    },
    {
     "name": "stderr",
     "output_type": "stream",
     "text": [
      "chunk:   0%|          | 37/79339 [17:42<632:30:39, 28.71s/it, now=None]"
     ]
    },
    {
     "name": "stdout",
     "output_type": "stream",
     "text": [
      "MoviePy - Done.\n",
      "Converted '/Volumes/Extreme SSD/BirdConv/MP4s/Canary_Social/1724970673-USA5499-USA5483.mp4' to '/Volumes/Extreme SSD/BirdConv/WAVs/Canary_Social/1724970673-USA5499-USA5483.wav'\n"
     ]
    },
    {
     "name": "stderr",
     "output_type": "stream",
     "text": [
      "chunk:   0%|          | 37/79339 [17:42<632:47:39, 28.73s/it, now=None]"
     ]
    },
    {
     "name": "stdout",
     "output_type": "stream",
     "text": [
      "MoviePy - Writing audio in /Volumes/Extreme SSD/BirdConv/WAVs/Canary_Social/1725383411-USA5483-USA5499.wav\n"
     ]
    },
    {
     "name": "stderr",
     "output_type": "stream",
     "text": [
      "chunk:   0%|          | 37/79339 [18:06<646:42:45, 29.36s/it, now=None]"
     ]
    },
    {
     "name": "stdout",
     "output_type": "stream",
     "text": [
      "MoviePy - Done.\n",
      "Converted '/Volumes/Extreme SSD/BirdConv/MP4s/Canary_Social/1725383411-USA5483-USA5499.mp4' to '/Volumes/Extreme SSD/BirdConv/WAVs/Canary_Social/1725383411-USA5483-USA5499.wav'\n"
     ]
    },
    {
     "name": "stderr",
     "output_type": "stream",
     "text": [
      "chunk:   0%|          | 37/79339 [18:06<646:59:37, 29.37s/it, now=None]"
     ]
    },
    {
     "name": "stdout",
     "output_type": "stream",
     "text": [
      "MoviePy - Writing audio in /Volumes/Extreme SSD/BirdConv/WAVs/Canary_Social/1725387186-USA5494-USA5497.wav\n"
     ]
    },
    {
     "name": "stderr",
     "output_type": "stream",
     "text": [
      "chunk:   0%|          | 37/79339 [18:30<660:55:11, 30.00s/it, now=None]"
     ]
    },
    {
     "name": "stdout",
     "output_type": "stream",
     "text": [
      "MoviePy - Done.\n",
      "Converted '/Volumes/Extreme SSD/BirdConv/MP4s/Canary_Social/1725387186-USA5494-USA5497.mp4' to '/Volumes/Extreme SSD/BirdConv/WAVs/Canary_Social/1725387186-USA5494-USA5497.wav'\n"
     ]
    },
    {
     "name": "stderr",
     "output_type": "stream",
     "text": [
      "chunk:   0%|          | 37/79339 [18:30<661:14:27, 30.02s/it, now=None]"
     ]
    },
    {
     "name": "stdout",
     "output_type": "stream",
     "text": [
      "MoviePy - Writing audio in /Volumes/Extreme SSD/BirdConv/WAVs/Canary_Social/1725395549-USA5483-USA5497-USA5494-USA5499.wav\n"
     ]
    },
    {
     "name": "stderr",
     "output_type": "stream",
     "text": [
      "chunk:   0%|          | 37/79339 [18:58<677:45:10, 30.77s/it, now=None]"
     ]
    },
    {
     "name": "stdout",
     "output_type": "stream",
     "text": [
      "MoviePy - Done.\n",
      "Converted '/Volumes/Extreme SSD/BirdConv/MP4s/Canary_Social/1725395549-USA5483-USA5497-USA5494-USA5499.mp4' to '/Volumes/Extreme SSD/BirdConv/WAVs/Canary_Social/1725395549-USA5483-USA5497-USA5494-USA5499.wav'\n"
     ]
    },
    {
     "name": "stderr",
     "output_type": "stream",
     "text": [
      "chunk:   0%|          | 37/79339 [18:58<678:02:16, 30.78s/it, now=None]"
     ]
    },
    {
     "name": "stdout",
     "output_type": "stream",
     "text": [
      "MoviePy - Writing audio in /Volumes/Extreme SSD/BirdConv/WAVs/Canary_Social/1725401546-USA5494-USA5499.wav\n"
     ]
    },
    {
     "name": "stderr",
     "output_type": "stream",
     "text": [
      "chunk:   0%|          | 37/79339 [19:21<691:48:29, 31.41s/it, now=None]"
     ]
    },
    {
     "name": "stdout",
     "output_type": "stream",
     "text": [
      "MoviePy - Done.\n",
      "Converted '/Volumes/Extreme SSD/BirdConv/MP4s/Canary_Social/1725401546-USA5494-USA5499.mp4' to '/Volumes/Extreme SSD/BirdConv/WAVs/Canary_Social/1725401546-USA5494-USA5499.wav'\n"
     ]
    },
    {
     "name": "stderr",
     "output_type": "stream",
     "text": [
      "chunk:   0%|          | 37/79339 [19:22<692:05:23, 31.42s/it, now=None]"
     ]
    },
    {
     "name": "stdout",
     "output_type": "stream",
     "text": [
      "MoviePy - Writing audio in /Volumes/Extreme SSD/BirdConv/WAVs/Canary_Social/1725469571-USA5483-USA5499.wav\n"
     ]
    },
    {
     "name": "stderr",
     "output_type": "stream",
     "text": [
      "chunk:   0%|          | 37/79339 [19:46<706:10:18, 32.06s/it, now=None]"
     ]
    },
    {
     "name": "stdout",
     "output_type": "stream",
     "text": [
      "MoviePy - Done.\n",
      "Converted '/Volumes/Extreme SSD/BirdConv/MP4s/Canary_Social/1725469571-USA5483-USA5499.mp4' to '/Volumes/Extreme SSD/BirdConv/WAVs/Canary_Social/1725469571-USA5483-USA5499.wav'\n"
     ]
    },
    {
     "name": "stderr",
     "output_type": "stream",
     "text": [
      "chunk:   0%|          | 37/79339 [19:46<706:27:50, 32.07s/it, now=None]"
     ]
    },
    {
     "name": "stdout",
     "output_type": "stream",
     "text": [
      "MoviePy - Writing audio in /Volumes/Extreme SSD/BirdConv/WAVs/Canary_Social/1725559716-USA5494-USA5483.wav\n"
     ]
    },
    {
     "name": "stderr",
     "output_type": "stream",
     "text": [
      "chunk:   0%|          | 37/79339 [20:10<720:26:43, 32.71s/it, now=None]"
     ]
    },
    {
     "name": "stdout",
     "output_type": "stream",
     "text": [
      "MoviePy - Done.\n",
      "Converted '/Volumes/Extreme SSD/BirdConv/MP4s/Canary_Social/1725559716-USA5494-USA5483.mp4' to '/Volumes/Extreme SSD/BirdConv/WAVs/Canary_Social/1725559716-USA5494-USA5483.wav'\n"
     ]
    },
    {
     "name": "stderr",
     "output_type": "stream",
     "text": [
      "chunk:   0%|          | 37/79339 [20:10<720:43:55, 32.72s/it, now=None]"
     ]
    },
    {
     "name": "stdout",
     "output_type": "stream",
     "text": [
      "MoviePy - Writing audio in /Volumes/Extreme SSD/BirdConv/WAVs/Canary_Social/1725649219-USA5494-USA5499.wav\n"
     ]
    },
    {
     "name": "stderr",
     "output_type": "stream",
     "text": [
      "chunk:   0%|          | 37/79339 [20:32<733:46:01, 33.31s/it, now=None]"
     ]
    },
    {
     "name": "stdout",
     "output_type": "stream",
     "text": [
      "MoviePy - Done.\n",
      "Converted '/Volumes/Extreme SSD/BirdConv/MP4s/Canary_Social/1725649219-USA5494-USA5499.mp4' to '/Volumes/Extreme SSD/BirdConv/WAVs/Canary_Social/1725649219-USA5494-USA5499.wav'\n"
     ]
    },
    {
     "name": "stderr",
     "output_type": "stream",
     "text": [
      "chunk:   0%|          | 37/79339 [20:32<734:01:34, 33.32s/it, now=None]"
     ]
    },
    {
     "name": "stdout",
     "output_type": "stream",
     "text": [
      "MoviePy - Writing audio in /Volumes/Extreme SSD/BirdConv/WAVs/Canary_Social/1725903334-USA5483-USA5499.wav\n"
     ]
    },
    {
     "name": "stderr",
     "output_type": "stream",
     "text": [
      "chunk:   0%|          | 37/79339 [20:54<746:53:07, 33.91s/it, now=None]"
     ]
    },
    {
     "name": "stdout",
     "output_type": "stream",
     "text": [
      "MoviePy - Done.\n",
      "Converted '/Volumes/Extreme SSD/BirdConv/MP4s/Canary_Social/1725903334-USA5483-USA5499.mp4' to '/Volumes/Extreme SSD/BirdConv/WAVs/Canary_Social/1725903334-USA5483-USA5499.wav'\n"
     ]
    },
    {
     "name": "stderr",
     "output_type": "stream",
     "text": [
      "chunk:   0%|          | 37/79339 [20:54<747:07:13, 33.92s/it, now=None]"
     ]
    },
    {
     "name": "stdout",
     "output_type": "stream",
     "text": [
      "MoviePy - Writing audio in /Volumes/Extreme SSD/BirdConv/WAVs/Canary_Social/1725921494-USA5494-USA5483.wav\n"
     ]
    },
    {
     "name": "stderr",
     "output_type": "stream",
     "text": [
      "chunk:   0%|          | 37/79339 [20:58<749:16:12, 34.01s/it, now=None]"
     ]
    },
    {
     "name": "stdout",
     "output_type": "stream",
     "text": [
      "MoviePy - Done.\n",
      "Converted '/Volumes/Extreme SSD/BirdConv/MP4s/Canary_Social/1725921494-USA5494-USA5483.mp4' to '/Volumes/Extreme SSD/BirdConv/WAVs/Canary_Social/1725921494-USA5494-USA5483.wav'\n"
     ]
    },
    {
     "name": "stderr",
     "output_type": "stream",
     "text": [
      "chunk:   0%|          | 37/79339 [20:58<749:29:50, 34.02s/it, now=None]"
     ]
    },
    {
     "name": "stdout",
     "output_type": "stream",
     "text": [
      "MoviePy - Writing audio in /Volumes/Extreme SSD/BirdConv/WAVs/Canary_Social/1725922100-USA5499-USA5494.wav\n"
     ]
    },
    {
     "name": "stderr",
     "output_type": "stream",
     "text": [
      "chunk:   0%|          | 37/79339 [21:02<751:54:48, 34.13s/it, now=None]"
     ]
    },
    {
     "name": "stdout",
     "output_type": "stream",
     "text": [
      "MoviePy - Done.\n",
      "Converted '/Volumes/Extreme SSD/BirdConv/MP4s/Canary_Social/1725922100-USA5499-USA5494.mp4' to '/Volumes/Extreme SSD/BirdConv/WAVs/Canary_Social/1725922100-USA5499-USA5494.wav'\n"
     ]
    },
    {
     "name": "stderr",
     "output_type": "stream",
     "text": [
      "chunk:   0%|          | 37/79339 [21:03<752:08:08, 34.14s/it, now=None]"
     ]
    },
    {
     "name": "stdout",
     "output_type": "stream",
     "text": [
      "MoviePy - Writing audio in /Volumes/Extreme SSD/BirdConv/WAVs/Canary_Social/1725995095-USA5483-USA5497.wav\n"
     ]
    },
    {
     "name": "stderr",
     "output_type": "stream",
     "text": [
      "chunk:   0%|          | 37/79339 [21:07<754:20:00, 34.24s/it, now=None]"
     ]
    },
    {
     "name": "stdout",
     "output_type": "stream",
     "text": [
      "MoviePy - Done.\n",
      "Converted '/Volumes/Extreme SSD/BirdConv/MP4s/Canary_Social/1725995095-USA5483-USA5497.mp4' to '/Volumes/Extreme SSD/BirdConv/WAVs/Canary_Social/1725995095-USA5483-USA5497.wav'\n"
     ]
    },
    {
     "name": "stderr",
     "output_type": "stream",
     "text": [
      "chunk:   0%|          | 37/79339 [21:07<754:34:49, 34.25s/it, now=None]"
     ]
    },
    {
     "name": "stdout",
     "output_type": "stream",
     "text": [
      "MoviePy - Writing audio in /Volumes/Extreme SSD/BirdConv/WAVs/Canary_Social/1726004093-USA5497-USA5483.wav\n"
     ]
    },
    {
     "name": "stderr",
     "output_type": "stream",
     "text": [
      "chunk:   0%|          | 37/79339 [21:11<756:45:34, 34.35s/it, now=None]"
     ]
    },
    {
     "name": "stdout",
     "output_type": "stream",
     "text": [
      "MoviePy - Done.\n",
      "Converted '/Volumes/Extreme SSD/BirdConv/MP4s/Canary_Social/1726004093-USA5497-USA5483.mp4' to '/Volumes/Extreme SSD/BirdConv/WAVs/Canary_Social/1726004093-USA5497-USA5483.wav'\n"
     ]
    },
    {
     "name": "stderr",
     "output_type": "stream",
     "text": [
      "chunk:   0%|          | 37/79339 [21:11<756:59:12, 34.36s/it, now=None]"
     ]
    },
    {
     "name": "stdout",
     "output_type": "stream",
     "text": [
      "MoviePy - Writing audio in /Volumes/Extreme SSD/BirdConv/WAVs/Canary_Social/1726597845-USA5483-USA5497.wav\n"
     ]
    },
    {
     "name": "stderr",
     "output_type": "stream",
     "text": [
      "chunk:   0%|          | 37/79339 [21:13<758:04:36, 34.41s/it, now=None]"
     ]
    },
    {
     "name": "stdout",
     "output_type": "stream",
     "text": [
      "MoviePy - Done.\n",
      "Converted '/Volumes/Extreme SSD/BirdConv/MP4s/Canary_Social/1726597845-USA5483-USA5497.mp4' to '/Volumes/Extreme SSD/BirdConv/WAVs/Canary_Social/1726597845-USA5483-USA5497.wav'\n"
     ]
    },
    {
     "name": "stderr",
     "output_type": "stream",
     "text": [
      "chunk:   0%|          | 37/79339 [21:13<758:17:39, 34.42s/it, now=None]"
     ]
    },
    {
     "name": "stdout",
     "output_type": "stream",
     "text": [
      "MoviePy - Writing audio in /Volumes/Extreme SSD/BirdConv/WAVs/Canary_Social/1726598230-USA5483-USA5497.wav\n"
     ]
    },
    {
     "name": "stderr",
     "output_type": "stream",
     "text": [
      "chunk:   0%|          | 37/79339 [21:14<758:45:07, 34.44s/it, now=None]"
     ]
    },
    {
     "name": "stdout",
     "output_type": "stream",
     "text": [
      "MoviePy - Done.\n",
      "Converted '/Volumes/Extreme SSD/BirdConv/MP4s/Canary_Social/1726598230-USA5483-USA5497.mp4' to '/Volumes/Extreme SSD/BirdConv/WAVs/Canary_Social/1726598230-USA5483-USA5497.wav'\n"
     ]
    },
    {
     "name": "stderr",
     "output_type": "stream",
     "text": [
      "chunk:   0%|          | 37/79339 [21:14<758:58:57, 34.45s/it, now=None]"
     ]
    },
    {
     "name": "stdout",
     "output_type": "stream",
     "text": [
      "MoviePy - Writing audio in /Volumes/Extreme SSD/BirdConv/WAVs/Canary_Social/1727735143-USA5499-USA5483.wav\n"
     ]
    },
    {
     "name": "stderr",
     "output_type": "stream",
     "text": [
      "chunk:   0%|          | 37/79339 [21:21<763:13:20, 34.65s/it, now=None]"
     ]
    },
    {
     "name": "stdout",
     "output_type": "stream",
     "text": [
      "MoviePy - Done.\n",
      "Converted '/Volumes/Extreme SSD/BirdConv/MP4s/Canary_Social/1727735143-USA5499-USA5483.mp4' to '/Volumes/Extreme SSD/BirdConv/WAVs/Canary_Social/1727735143-USA5499-USA5483.wav'\n"
     ]
    },
    {
     "name": "stderr",
     "output_type": "stream",
     "text": [
      "chunk:   0%|          | 37/79339 [21:22<763:27:36, 34.66s/it, now=None]"
     ]
    },
    {
     "name": "stdout",
     "output_type": "stream",
     "text": [
      "MoviePy - Writing audio in /Volumes/Extreme SSD/BirdConv/WAVs/Canary_Social/1727735154-USA5494-USA5497.wav\n"
     ]
    },
    {
     "name": "stderr",
     "output_type": "stream",
     "text": [
      "chunk:   0%|          | 37/79339 [21:29<767:44:21, 34.85s/it, now=None]"
     ]
    },
    {
     "name": "stdout",
     "output_type": "stream",
     "text": [
      "MoviePy - Done.\n",
      "Converted '/Volumes/Extreme SSD/BirdConv/MP4s/Canary_Social/1727735154-USA5494-USA5497.mp4' to '/Volumes/Extreme SSD/BirdConv/WAVs/Canary_Social/1727735154-USA5494-USA5497.wav'\n"
     ]
    },
    {
     "name": "stderr",
     "output_type": "stream",
     "text": [
      "chunk:   0%|          | 37/79339 [21:29<767:58:41, 34.86s/it, now=None]"
     ]
    },
    {
     "name": "stdout",
     "output_type": "stream",
     "text": [
      "MoviePy - Writing audio in /Volumes/Extreme SSD/BirdConv/WAVs/Canary_Social/1729028982-USA5483-USA5499.wav\n"
     ]
    },
    {
     "name": "stderr",
     "output_type": "stream",
     "text": [
      "chunk:   0%|          | 37/79339 [21:35<771:14:44, 35.01s/it, now=None]"
     ]
    },
    {
     "name": "stdout",
     "output_type": "stream",
     "text": [
      "MoviePy - Done.\n",
      "Converted '/Volumes/Extreme SSD/BirdConv/MP4s/Canary_Social/1729028982-USA5483-USA5499.mp4' to '/Volumes/Extreme SSD/BirdConv/WAVs/Canary_Social/1729028982-USA5483-USA5499.wav'\n"
     ]
    },
    {
     "name": "stderr",
     "output_type": "stream",
     "text": [
      "chunk:   0%|          | 37/79339 [21:35<771:30:41, 35.02s/it, now=None]"
     ]
    },
    {
     "name": "stdout",
     "output_type": "stream",
     "text": [
      "MoviePy - Writing audio in /Volumes/Extreme SSD/BirdConv/WAVs/Canary_Social/1727202750-USA5483-USA5497.wav\n"
     ]
    },
    {
     "name": "stderr",
     "output_type": "stream",
     "text": [
      "chunk:   0%|          | 37/79339 [21:56<784:02:10, 35.59s/it, now=None]"
     ]
    },
    {
     "name": "stdout",
     "output_type": "stream",
     "text": [
      "MoviePy - Done.\n",
      "Converted '/Volumes/Extreme SSD/BirdConv/MP4s/Canary_Social/1727202750-USA5483-USA5497.mp4' to '/Volumes/Extreme SSD/BirdConv/WAVs/Canary_Social/1727202750-USA5483-USA5497.wav'\n"
     ]
    }
   ],
   "source": [
    "from moviepy.editor import VideoFileClip\n",
    "import os\n",
    "from tkinter import Tk\n",
    "from tkinter.filedialog import askdirectory\n",
    "\n",
    "def convert_all_mp4_to_wav():\n",
    "    # Create a Tkinter root window and hide it\n",
    "    root = Tk()\n",
    "    root.withdraw()  # Hide the main window\n",
    "\n",
    "    # Open folder selection dialog for input folder\n",
    "    input_folder = askdirectory(title=\"Select Folder with MP4 Files\")\n",
    "    \n",
    "    # Check if the user selected an input folder\n",
    "    if not input_folder:\n",
    "        print(\"No input folder selected.\")\n",
    "        return\n",
    "\n",
    "    # Open folder selection dialog for output folder\n",
    "    output_folder = askdirectory(title=\"Select or Create Folder to Save WAV Files\")\n",
    "    \n",
    "    # Check if the user selected an output folder\n",
    "    if not output_folder:\n",
    "        print(\"No output folder selected.\")\n",
    "        return\n",
    "\n",
    "    # Get all .mp4 files in the input folder\n",
    "    mp4_files = [f for f in os.listdir(input_folder) if f.endswith(\".mp4\")]\n",
    "\n",
    "    if not mp4_files:\n",
    "        print(\"No .mp4 files found in the selected input folder.\")\n",
    "        return\n",
    "\n",
    "    # Loop through all .mp4 files and convert them to .wav\n",
    "    for mp4_file in mp4_files:\n",
    "        input_file = os.path.join(input_folder, mp4_file)\n",
    "        base_name = os.path.splitext(mp4_file)[0]  # Get base name without extension\n",
    "        output_file = os.path.join(output_folder, base_name + \".wav\")\n",
    "\n",
    "        # Load the video file\n",
    "        video = VideoFileClip(input_file)\n",
    "        \n",
    "        # Extract the audio and save it as .wav\n",
    "        video.audio.write_audiofile(output_file, codec='pcm_s16le')\n",
    "        \n",
    "        print(f\"Converted '{input_file}' to '{output_file}'\")\n",
    "\n",
    "# Call the function to open the folder selection dialogs and convert files\n",
    "convert_all_mp4_to_wav()\n"
   ]
  },
  {
   "cell_type": "code",
   "execution_count": null,
   "metadata": {},
   "outputs": [],
   "source": []
  }
 ],
 "metadata": {
  "kernelspec": {
   "display_name": "Bird_conv_analysis",
   "language": "python",
   "name": "python3"
  },
  "language_info": {
   "codemirror_mode": {
    "name": "ipython",
    "version": 3
   },
   "file_extension": ".py",
   "mimetype": "text/x-python",
   "name": "python",
   "nbconvert_exporter": "python",
   "pygments_lexer": "ipython3",
   "version": "3.9.20"
  }
 },
 "nbformat": 4,
 "nbformat_minor": 2
}
